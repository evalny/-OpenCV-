{
 "cells": [
  {
   "cell_type": "code",
   "execution_count": 1,
   "id": "educated-notice",
   "metadata": {},
   "outputs": [],
   "source": [
    "import cv2 as cv\n",
    "import numpy as np"
   ]
  },
  {
   "cell_type": "code",
   "execution_count": 2,
   "id": "lonely-documentation",
   "metadata": {},
   "outputs": [],
   "source": [
    "img = cv.imread(\"redN.jpg\")"
   ]
  },
  {
   "cell_type": "code",
   "execution_count": 3,
   "id": "practical-administrator",
   "metadata": {},
   "outputs": [],
   "source": [
    "img_red = img[:, :, 2]\n",
    "blur = cv.medianBlur(img_red, 3)"
   ]
  },
  {
   "cell_type": "code",
   "execution_count": 4,
   "id": "asian-milan",
   "metadata": {},
   "outputs": [
    {
     "data": {
      "text/plain": [
       "True"
      ]
     },
     "execution_count": 4,
     "metadata": {},
     "output_type": "execute_result"
    }
   ],
   "source": [
    "cv.imwrite('redN_blur.jpg', blur)"
   ]
  },
  {
   "cell_type": "code",
   "execution_count": 1,
   "id": "changed-belfast",
   "metadata": {},
   "outputs": [
    {
     "ename": "NameError",
     "evalue": "name 'cv' is not defined",
     "output_type": "error",
     "traceback": [
      "\u001b[1;31m---------------------------------------------------------------------------\u001b[0m",
      "\u001b[1;31mNameError\u001b[0m                                 Traceback (most recent call last)",
      "\u001b[1;32m<ipython-input-1-9647e148e4ba>\u001b[0m in \u001b[0;36m<module>\u001b[1;34m\u001b[0m\n\u001b[1;32m----> 1\u001b[1;33m \u001b[0m_\u001b[0m\u001b[1;33m,\u001b[0m \u001b[0mredN_bin\u001b[0m \u001b[1;33m=\u001b[0m \u001b[0mcv\u001b[0m\u001b[1;33m.\u001b[0m\u001b[0mthreshold\u001b[0m\u001b[1;33m(\u001b[0m\u001b[0mimg_red\u001b[0m\u001b[1;33m,\u001b[0m \u001b[1;36m230\u001b[0m\u001b[1;33m,\u001b[0m \u001b[1;36m255\u001b[0m\u001b[1;33m,\u001b[0m \u001b[0mcv\u001b[0m\u001b[1;33m.\u001b[0m\u001b[0mTHRESH_BINARY\u001b[0m\u001b[1;33m)\u001b[0m\u001b[1;33m\u001b[0m\u001b[1;33m\u001b[0m\u001b[0m\n\u001b[0m",
      "\u001b[1;31mNameError\u001b[0m: name 'cv' is not defined"
     ]
    }
   ],
   "source": [
    "_, redN_bin = cv.threshold(img_red, 230, 255, cv.THRESH_BINARY)"
   ]
  },
  {
   "cell_type": "code",
   "execution_count": 6,
   "id": "extensive-problem",
   "metadata": {},
   "outputs": [
    {
     "data": {
      "text/plain": [
       "True"
      ]
     },
     "execution_count": 6,
     "metadata": {},
     "output_type": "execute_result"
    }
   ],
   "source": [
    "cv.imwrite('redN_bin.jpg', redN_bin)\n"
   ]
  },
  {
   "cell_type": "code",
   "execution_count": 7,
   "id": "surprising-diagram",
   "metadata": {},
   "outputs": [],
   "source": [
    "kernel = np.ones((3, 3), np.int8)\n",
    "red_dil = cv.dilate(redN_bin, kernel, iterations=1)"
   ]
  },
  {
   "cell_type": "code",
   "execution_count": 8,
   "id": "vietnamese-exploration",
   "metadata": {},
   "outputs": [
    {
     "data": {
      "text/plain": [
       "True"
      ]
     },
     "execution_count": 8,
     "metadata": {},
     "output_type": "execute_result"
    }
   ],
   "source": [
    "cv.imwrite(\"redN_dil.jpg\", red_dil)"
   ]
  },
  {
   "cell_type": "code",
   "execution_count": 9,
   "id": "indie-concept",
   "metadata": {},
   "outputs": [],
   "source": [
    "contours, hierarchy = cv.findContours(red_dil, cv.RETR_EXTERNAL, cv.CHAIN_APPROX_SIMPLE)"
   ]
  },
  {
   "cell_type": "code",
   "execution_count": 10,
   "id": "opened-drink",
   "metadata": {},
   "outputs": [
    {
     "data": {
      "text/plain": [
       "array([[[ 1, -1, -1, -1],\n",
       "        [ 2,  0, -1, -1],\n",
       "        [ 3,  1, -1, -1],\n",
       "        [ 4,  2, -1, -1],\n",
       "        [ 5,  3, -1, -1],\n",
       "        [-1,  4, -1, -1]]], dtype=int32)"
      ]
     },
     "execution_count": 10,
     "metadata": {},
     "output_type": "execute_result"
    }
   ],
   "source": [
    "hierarchy"
   ]
  },
  {
   "cell_type": "code",
   "execution_count": 11,
   "id": "disabled-respondent",
   "metadata": {},
   "outputs": [],
   "source": [
    "boundRect = []\n",
    "for c in contours:\n",
    "    x, y, w, h = cv.boundingRect(c)\n",
    "    # 一个筛选，可能需要看识别条件而定，有待优化\n",
    "    if h/w > 1:\n",
    "        boundRect.append([x,y,w,h])\n",
    "        # 画一个方形标注一下，看看圈的范围是否正确\n",
    "        # red_dil = cv.rectangle(red_dil, (x, y), (x+w, y+h), 255, 2)\n"
   ]
  },
  {
   "cell_type": "code",
   "execution_count": 12,
   "id": "sharp-delight",
   "metadata": {},
   "outputs": [
    {
     "data": {
      "text/plain": [
       "[[208, 53, 64, 94], [51, 53, 61, 84], [130, 50, 65, 94]]"
      ]
     },
     "execution_count": 12,
     "metadata": {},
     "output_type": "execute_result"
    }
   ],
   "source": [
    "boundRect"
   ]
  },
  {
   "cell_type": "code",
   "execution_count": 13,
   "id": "coated-invalid",
   "metadata": {
    "scrolled": true
   },
   "outputs": [
    {
     "data": {
      "text/plain": [
       "True"
      ]
     },
     "execution_count": 13,
     "metadata": {},
     "output_type": "execute_result"
    }
   ],
   "source": [
    "cv.imwrite('redN_rec.jpg', red_dil)"
   ]
  },
  {
   "cell_type": "code",
   "execution_count": 2,
   "id": "closing-characterization",
   "metadata": {},
   "outputs": [
    {
     "ename": "NameError",
     "evalue": "name 'boundRect' is not defined",
     "output_type": "error",
     "traceback": [
      "\u001b[1;31m---------------------------------------------------------------------------\u001b[0m",
      "\u001b[1;31mNameError\u001b[0m                                 Traceback (most recent call last)",
      "\u001b[1;32m<ipython-input-2-28d121b58d60>\u001b[0m in \u001b[0;36m<module>\u001b[1;34m\u001b[0m\n\u001b[0;32m      7\u001b[0m         \u001b[1;32mreturn\u001b[0m \u001b[1;32mFalse\u001b[0m\u001b[1;33m\u001b[0m\u001b[1;33m\u001b[0m\u001b[0m\n\u001b[0;32m      8\u001b[0m \u001b[1;33m\u001b[0m\u001b[0m\n\u001b[1;32m----> 9\u001b[1;33m \u001b[0mbounds\u001b[0m \u001b[1;33m=\u001b[0m \u001b[0msorted\u001b[0m\u001b[1;33m(\u001b[0m\u001b[0mboundRect\u001b[0m\u001b[1;33m)\u001b[0m\u001b[1;33m\u001b[0m\u001b[1;33m\u001b[0m\u001b[0m\n\u001b[0m\u001b[0;32m     10\u001b[0m \u001b[1;33m\u001b[0m\u001b[0m\n\u001b[0;32m     11\u001b[0m \u001b[1;31m# bound\u001b[0m\u001b[1;33m\u001b[0m\u001b[1;33m\u001b[0m\u001b[1;33m\u001b[0m\u001b[0m\n",
      "\u001b[1;31mNameError\u001b[0m: name 'boundRect' is not defined"
     ]
    }
   ],
   "source": [
    "# 尝试定义一个特殊方法拓展sorted的适用范围\n",
    "# 已验证可用\n",
    "def __lt__(self, y):\n",
    "    if self[0] < y[0]:\n",
    "        return True\n",
    "    else:\n",
    "        return False\n",
    "\n",
    "bounds = sorted(boundRect)\n",
    "\n",
    "# bound"
   ]
  },
  {
   "cell_type": "code",
   "execution_count": 15,
   "id": "consolidated-newton",
   "metadata": {},
   "outputs": [],
   "source": [
    "def numDetect(img, loc):\n",
    "    x,y,w,h = loc\n",
    "    \n",
    "    if h/w > 3:\n",
    "        return 1\n",
    "    else:\n",
    "        a, b, c, d, e, f, g = 0,0,0,0,0,0,0\n",
    "        \n",
    "        # 更新，改为穿针法\n",
    "        line1 = red_dil[y:y+h, x+w//2]\n",
    "        line2 = red_dil[y+h//4, x:x+w]\n",
    "        line3 = red_dil[y+(h//4)*3, x:x+w]\n",
    "        # 检测竖线，从而识别a,g,d笔画\n",
    "        a,b,c,d,e,f,g = 0,0,0,0,0,0,0\n",
    "        for i in range(h):\n",
    "            if line1[i]==255:\n",
    "                if i<(h//3):\n",
    "                    a = 1\n",
    "                if i>2*(h//3):\n",
    "                    d = 1\n",
    "                if i>(h//3) and i<2*(h//3):\n",
    "                    g = 1\n",
    "        # 检测横线line2、line3，从而识别b,f笔画并减少时间消耗\n",
    "        for i in range(w):\n",
    "            if line2[i]==255:\n",
    "                if i<(w//2):\n",
    "                    b = 1\n",
    "                if i>(w//2):\n",
    "                    f = 1\n",
    "            if line3[i]==255:\n",
    "                if i<(w//2):\n",
    "                    c = 1\n",
    "                if i>(w//2):\n",
    "                    e = 1\n",
    "        \n",
    "        # 不写的眼花缭乱了，直接写就可以了\n",
    "        if a and b and c and d and e and f and g==0:\n",
    "            return 0\n",
    "        if a and b==0 and c and d and e == 0 and f and g:\n",
    "            return 2\n",
    "        if a and b==0 and c==0 and d and e and f and g:\n",
    "            return 3\n",
    "        if a==0 and b and c==0 and d==0 and e and f and g:\n",
    "            return 4\n",
    "        if a and b and c==0 and d and e and f==0 and g:\n",
    "            return 5\n",
    "        if a and b and c and d and e and f==0 and g:\n",
    "            return 6\n",
    "        if a and b==0 and c==0 and d==0 and e and f and g==0:\n",
    "            return 7\n",
    "        if a and b and c and d and e and f and g:\n",
    "            return 8\n",
    "        if a and b and c==0 and d and e and f and g:\n",
    "            return 9\n",
    "        \n",
    "        return -1\n",
    "\n"
   ]
  },
  {
   "cell_type": "code",
   "execution_count": 16,
   "id": "conditional-puzzle",
   "metadata": {},
   "outputs": [
    {
     "data": {
      "text/plain": [
       "496"
      ]
     },
     "execution_count": 16,
     "metadata": {},
     "output_type": "execute_result"
    }
   ],
   "source": [
    "num = 0\n",
    "for i in bounds:\n",
    "    num = num*10 + numDetect(red_dil, i)\n",
    "    \n",
    "num"
   ]
  },
  {
   "cell_type": "code",
   "execution_count": 17,
   "id": "silver-patrol",
   "metadata": {},
   "outputs": [],
   "source": [
    "# 小数点识别，数字是否为斜着的好像也不干扰"
   ]
  },
  {
   "cell_type": "code",
   "execution_count": 18,
   "id": "capital-illness",
   "metadata": {},
   "outputs": [],
   "source": [
    "def detectComma(img, bound):\n",
    "    for i in range(1, len(bound)):\n",
    "        \n",
    "        roi_x1 = bound[i-1][0]+bound[i-1][2]\n",
    "        roi_x2 = bound[i][0]\n",
    "        roi_y2 = max(bound[i-1][1]+bound[i-1][3], bound[i][1]+bound[i][3])\n",
    "        roi_y1 = roi_y2 - max(bound[i-1][3], bound[i][3])//3\n",
    "        roi = img[roi_y1:roi_y2, roi_x1:roi_x2]\n",
    "        \n",
    "        contours0, hierarchy0 = cv.findContours(roi, cv.RETR_EXTERNAL, cv.CHAIN_APPROX_SIMPLE)\n",
    "        \n",
    "        boundRect0 = []\n",
    "        for c in contours0:\n",
    "            x, y, w, h = cv.boundingRect(c)\n",
    "            # 一个筛选，可能需要看识别条件而定，有待优化——比如增加小数点的大小判断\n",
    "            if h/w > 0.75 and h/w < 1.25 :\n",
    "                boundRect0.append([x,y,w,h])\n",
    "                # 画一个方形标注一下，看看圈的范围是否正确\n",
    "                red_dil = cv.rectangle(roi, (x, y), (x+w, y+h), 255, 2)\n",
    "                \n",
    "                return i\n",
    "        \n",
    "    return -1\n"
   ]
  },
  {
   "cell_type": "code",
   "execution_count": 19,
   "id": "norman-hardwood",
   "metadata": {},
   "outputs": [
    {
     "data": {
      "text/plain": [
       "-1"
      ]
     },
     "execution_count": 19,
     "metadata": {},
     "output_type": "execute_result"
    }
   ],
   "source": [
    "detectComma(red_dil, bounds)"
   ]
  },
  {
   "cell_type": "code",
   "execution_count": 20,
   "id": "undefined-criminal",
   "metadata": {},
   "outputs": [],
   "source": [
    "# 斜体数字的小数点识别，在数字区域内进行boundRect识别"
   ]
  },
  {
   "cell_type": "code",
   "execution_count": 21,
   "id": "bound-leeds",
   "metadata": {},
   "outputs": [],
   "source": [
    "def detectCommaItalic(img, bounds):\n",
    "    for i in range(len(bounds)):\n",
    "        x,y,w,h = bounds[i]\n",
    "        roi = img[y+3*h//4: y+h, x+2*w//3: x+w]\n",
    "        \n",
    "        contours0, hierarchy0 = cv.findContours(roi, cv.RETR_EXTERNAL, cv.CHAIN_APPROX_SIMPLE)\n",
    "        \n",
    "        boundRect0 = []\n",
    "        for c in contours0:\n",
    "            x, y, w, h = cv.boundingRect(c)\n",
    "            # 一个筛选，可能需要看识别条件而定，有待优化——比如增加小数点的大小判断\n",
    "            if h/w > 0.8 and h/w < 1.2 :\n",
    "                boundRect0.append([x,y,w,h])\n",
    "                # 画一个方形标注一下，看看圈的范围是否正确\n",
    "                red_dil = cv.rectangle(roi, (x, y), (x+w, y+h), 255, 2)\n",
    "                \n",
    "                return i\n",
    "        \n",
    "    return -1\n"
   ]
  },
  {
   "cell_type": "code",
   "execution_count": 22,
   "id": "subject-missile",
   "metadata": {},
   "outputs": [
    {
     "data": {
      "text/plain": [
       "1"
      ]
     },
     "execution_count": 22,
     "metadata": {},
     "output_type": "execute_result"
    }
   ],
   "source": [
    "detectCommaItalic(red_dil, bounds)"
   ]
  },
  {
   "cell_type": "code",
   "execution_count": 23,
   "id": "running-custody",
   "metadata": {},
   "outputs": [
    {
     "data": {
      "text/plain": [
       "49.6"
      ]
     },
     "execution_count": 23,
     "metadata": {},
     "output_type": "execute_result"
    }
   ],
   "source": [
    "k = detectComma(red_dil, bounds)\n",
    "\n",
    "if k != -1:\n",
    "    # 正体数字检测到小数点的情况\n",
    "    num = num / pow(10, len(bounds)-a)\n",
    "else:\n",
    "    # 正体无小数点或斜体数字的情况\n",
    "    a = detectCommaItalic(red_dil, bounds)\n",
    "    \n",
    "    if a != -1:\n",
    "        # 斜体数字有小数点的情况\n",
    "        num = num / pow(10, len(bounds)-1-a)\n",
    "num"
   ]
  },
  {
   "cell_type": "code",
   "execution_count": null,
   "id": "ultimate-warren",
   "metadata": {},
   "outputs": [],
   "source": []
  }
 ],
 "metadata": {
  "kernelspec": {
   "display_name": "Python 3",
   "language": "python",
   "name": "python3"
  },
  "language_info": {
   "codemirror_mode": {
    "name": "ipython",
    "version": 3
   },
   "file_extension": ".py",
   "mimetype": "text/x-python",
   "name": "python",
   "nbconvert_exporter": "python",
   "pygments_lexer": "ipython3",
   "version": "3.8.3"
  }
 },
 "nbformat": 4,
 "nbformat_minor": 5
}
